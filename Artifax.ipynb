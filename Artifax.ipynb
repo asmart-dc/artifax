{
 "cells": [
  {
   "cell_type": "code",
   "execution_count": null,
   "id": "da81bfaa",
   "metadata": {},
   "outputs": [],
   "source": [
    "from artifaxpython import ArtifaxCredentials, ArtifaxRequest\n",
    "import pandas as pd"
   ]
  },
  {
   "cell_type": "code",
   "execution_count": null,
   "id": "3adf54dd",
   "metadata": {},
   "outputs": [],
   "source": [
    "ClientName = \"sandbox-thefactory\"\n",
    "apikey = \"\""
   ]
  },
  {
   "cell_type": "code",
   "execution_count": null,
   "id": "30454ef1",
   "metadata": {},
   "outputs": [],
   "source": [
    "credentials = ArtifaxCredentials(client_name=ClientName,\n",
    "                                  api_key=apikey)\n",
    "\n",
    "parameters = None #{'DateFrom':'2021-06-20','DateTo':'2021-06-21'}\n",
    "\n",
    "\n",
    "output = ArtifaxRequest(endpoint='arrangements/arrangement', credentials=credentials).get()"
   ]
  },
  {
   "cell_type": "code",
   "execution_count": null,
   "id": "af5f7517",
   "metadata": {},
   "outputs": [],
   "source": [
    "df = pd.DataFrame(output)"
   ]
  },
  {
   "cell_type": "code",
   "execution_count": null,
   "id": "8a625182",
   "metadata": {},
   "outputs": [],
   "source": [
    "df"
   ]
  }
 ],
 "metadata": {
  "kernelspec": {
   "display_name": "Python 3 (ipykernel)",
   "language": "python",
   "name": "python3"
  },
  "language_info": {
   "codemirror_mode": {
    "name": "ipython",
    "version": 3
   },
   "file_extension": ".py",
   "mimetype": "text/x-python",
   "name": "python",
   "nbconvert_exporter": "python",
   "pygments_lexer": "ipython3",
   "version": "3.9.7"
  }
 },
 "nbformat": 4,
 "nbformat_minor": 5
}
